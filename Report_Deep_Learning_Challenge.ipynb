{
  "nbformat": 4,
  "nbformat_minor": 0,
  "metadata": {
    "colab": {
      "provenance": [],
      "authorship_tag": "ABX9TyMw6IuqAqzoQRAc3xUq9iuI",
      "include_colab_link": true
    },
    "kernelspec": {
      "name": "python3",
      "display_name": "Python 3"
    },
    "language_info": {
      "name": "python"
    }
  },
  "cells": [
    {
      "cell_type": "markdown",
      "metadata": {
        "id": "view-in-github",
        "colab_type": "text"
      },
      "source": [
        "<a href=\"https://colab.research.google.com/github/MikeRoHer96/deep-learning-challenge/blob/main/Report_Deep_Learning_Challenge.ipynb\" target=\"_parent\"><img src=\"https://colab.research.google.com/assets/colab-badge.svg\" alt=\"Open In Colab\"/></a>"
      ]
    },
    {
      "cell_type": "code",
      "execution_count": null,
      "metadata": {
        "id": "AnndR3L8uy7T"
      },
      "outputs": [],
      "source": []
    },
    {
      "cell_type": "markdown",
      "source": [
        "Overview of the Analysis\n",
        "The purpose of this analysis was to build and optimize a neural network model to predict whether a charity will be successful based on various features.\n",
        "\n",
        "Results\n",
        "Data Preprocessing:\n",
        "\n",
        "Target Variables: IS_SUCCESSFUL\n",
        "Feature Variables: All columns except EIN and NAME were used as features, including funding, sector, and other categorical information.\n",
        "Variables to Remove: EIN and NAME were dropped because they are identifiers and not useful for prediction.\n",
        "\n",
        "Compiling, Training, and Evaluating the Model:\n",
        "Neurons, Layers, and Activation Functions:\n",
        "First hidden layer: 128 neurons with ReLU activation.\n",
        "Second hidden layer: 64 neurons with ReLU activation.\n",
        "Third hidden layer: 32 neurons with ReLU activation.\n",
        "Output layer: 1 neuron with a Sigmoid activation for binary classification.\n",
        "Achieving the Target Performance:\n",
        "The model achieved an accuracy of around 76% on the test data, surpassing the 75% target.\n",
        "\n",
        "Steps Taken to Increase Model Performance:\n",
        "Adjusted the number of neurons and layers.\n",
        "Tuned the activation functions to ReLU for hidden layers and Sigmoid for the output layer.\n",
        "Increased the complexity of the model by adding more neurons in hidden layers.\n",
        "\n",
        "Summary\n",
        "The neural network model was successful in predicting whether a charity would be successful, with an accuracy exceeding 75%. The model performed well with the chosen architecture."
      ],
      "metadata": {
        "id": "ITcBFsVmu7dn"
      }
    }
  ]
}